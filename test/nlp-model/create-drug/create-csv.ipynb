{
 "cells": [
  {
   "cell_type": "code",
   "execution_count": 38,
   "metadata": {},
   "outputs": [],
   "source": [
    "import json"
   ]
  },
  {
   "cell_type": "code",
   "execution_count": 39,
   "metadata": {},
   "outputs": [],
   "source": [
    "def load_data(path):\n",
    "    with open(path, 'r') as f:\n",
    "        data = json.load(f)\n",
    "    return data"
   ]
  },
  {
   "cell_type": "code",
   "execution_count": 40,
   "metadata": {},
   "outputs": [],
   "source": [
    "label = load_data(\"label.json\")"
   ]
  },
  {
   "cell_type": "code",
   "execution_count": 41,
   "metadata": {},
   "outputs": [],
   "source": [
    "label_encode = load_data(\"label_encode.json\")"
   ]
  },
  {
   "cell_type": "code",
   "execution_count": 59,
   "metadata": {},
   "outputs": [],
   "source": [
    "final_csv = pd.DataFrame(columns=['labels', 'drugname'])"
   ]
  },
  {
   "cell_type": "code",
   "execution_count": 60,
   "metadata": {},
   "outputs": [],
   "source": [
    "X_train = pd.read_csv(\"X_test.csv\", header=None)\n",
    "# change to set\n",
    "X_train = set(X_train[0].tolist())"
   ]
  },
  {
   "cell_type": "code",
   "execution_count": 61,
   "metadata": {},
   "outputs": [
    {
     "data": {
      "text/plain": [
       "{'20210407_223358079730.json',\n",
       " '20210407_223358080953.json',\n",
       " '20210407_223358082037.json',\n",
       " '20210407_223358084641.json',\n",
       " '20210407_223358085171.json',\n",
       " '20210407_223358086243.json',\n",
       " '20210407_223358087342.json',\n",
       " '20210407_223358088601.json',\n",
       " '20210407_223358091921.json',\n",
       " '20210407_223358093548.json',\n",
       " '20210407_223358098908.json',\n",
       " '20210407_223358102587.json',\n",
       " '20210407_223358112901.json',\n",
       " '20210407_223358113450.json',\n",
       " '20210407_223358117776.json',\n",
       " '20210407_223358120522.json',\n",
       " '20210407_223545229132.json',\n",
       " '20210407_223545238077.json',\n",
       " '20210407_223545240924.json',\n",
       " '20210407_223545241430.json',\n",
       " '20210407_223545244106.json',\n",
       " '20210407_223545248764.json',\n",
       " '20210407_223545249354.json',\n",
       " '20210407_223545251135.json',\n",
       " '20210407_223545254810.json',\n",
       " '20210407_223545262572.json',\n",
       " '20210407_223545265332.json',\n",
       " '20210407_223545266998.json',\n",
       " '20210420_161127310412.json',\n",
       " '20210420_161127313403.json',\n",
       " '20210420_161127314504.json',\n",
       " '20210420_161127314677.json',\n",
       " '20210420_161127315731.json',\n",
       " '20210420_222349350473.json',\n",
       " '20210420_223252354542.json',\n",
       " '20210420_223252355297.json',\n",
       " '20210420_223252367585.json',\n",
       " '20210420_223252367854.json',\n",
       " '20210420_223252368100.json',\n",
       " '20210420_223252368630.json',\n",
       " '20210420_223252368867.json',\n",
       " '20210420_223252369146.json',\n",
       " '20210421_151112474114.json',\n",
       " '20210421_151153949305.json',\n",
       " '20210421_151153950310.json',\n",
       " '20210421_155715925857.json',\n",
       " '20210421_155715926340.json',\n",
       " '20210421_155715928065.json',\n",
       " '20210421_155715929074.json',\n",
       " '20210503_155701483883.json',\n",
       " '20210503_155701484886.json',\n",
       " '20210503_155701492962.json'}"
      ]
     },
     "execution_count": 61,
     "metadata": {},
     "output_type": "execute_result"
    }
   ],
   "source": [
    "X_train"
   ]
  },
  {
   "cell_type": "code",
   "execution_count": 62,
   "metadata": {},
   "outputs": [],
   "source": [
    "for item_label, item_label_encode in zip(label, label_encode):\n",
    "    if item_label['id'] in X_train:\n",
    "        for i, j in zip(item_label['drugname'], item_label_encode['label']):\n",
    "            final_csv.loc[len(final_csv)] = [j, i]"
   ]
  },
  {
   "cell_type": "code",
   "execution_count": 63,
   "metadata": {},
   "outputs": [
    {
     "data": {
      "text/html": [
       "<div>\n",
       "<style scoped>\n",
       "    .dataframe tbody tr th:only-of-type {\n",
       "        vertical-align: middle;\n",
       "    }\n",
       "\n",
       "    .dataframe tbody tr th {\n",
       "        vertical-align: top;\n",
       "    }\n",
       "\n",
       "    .dataframe thead th {\n",
       "        text-align: right;\n",
       "    }\n",
       "</style>\n",
       "<table border=\"1\" class=\"dataframe\">\n",
       "  <thead>\n",
       "    <tr style=\"text-align: right;\">\n",
       "      <th></th>\n",
       "      <th>labels</th>\n",
       "      <th>drugname</th>\n",
       "    </tr>\n",
       "  </thead>\n",
       "  <tbody>\n",
       "    <tr>\n",
       "      <th>0</th>\n",
       "      <td>10</td>\n",
       "      <td>Bisoprolol (SaviProlol 2,5) 2,5mg</td>\n",
       "    </tr>\n",
       "    <tr>\n",
       "      <th>1</th>\n",
       "      <td>40</td>\n",
       "      <td>Losartan (Lanzaar 50) 50mg</td>\n",
       "    </tr>\n",
       "    <tr>\n",
       "      <th>2</th>\n",
       "      <td>6</td>\n",
       "      <td>Atorvastatin (Atoris 10mg) 10mg</td>\n",
       "    </tr>\n",
       "    <tr>\n",
       "      <th>3</th>\n",
       "      <td>75</td>\n",
       "      <td>Đinh lăng, bạch quả (Hoạt huyết dưỡng não) 150...</td>\n",
       "    </tr>\n",
       "    <tr>\n",
       "      <th>4</th>\n",
       "      <td>26</td>\n",
       "      <td>Enalapril (Enalapril) 5mg</td>\n",
       "    </tr>\n",
       "    <tr>\n",
       "      <th>...</th>\n",
       "      <td>...</td>\n",
       "      <td>...</td>\n",
       "    </tr>\n",
       "    <tr>\n",
       "      <th>131</th>\n",
       "      <td>69</td>\n",
       "      <td>STACETAM 800MG 800mg</td>\n",
       "    </tr>\n",
       "    <tr>\n",
       "      <th>132</th>\n",
       "      <td>65</td>\n",
       "      <td>RENAPRIL 5MG 5mg</td>\n",
       "    </tr>\n",
       "    <tr>\n",
       "      <th>133</th>\n",
       "      <td>70</td>\n",
       "      <td>TEANTI 20mg</td>\n",
       "    </tr>\n",
       "    <tr>\n",
       "      <th>134</th>\n",
       "      <td>20</td>\n",
       "      <td>CETAMPIR PLUS 400mg +25mg</td>\n",
       "    </tr>\n",
       "    <tr>\n",
       "      <th>135</th>\n",
       "      <td>59</td>\n",
       "      <td>PANACTOL 500mg</td>\n",
       "    </tr>\n",
       "  </tbody>\n",
       "</table>\n",
       "<p>136 rows × 2 columns</p>\n",
       "</div>"
      ],
      "text/plain": [
       "    labels                                           drugname\n",
       "0       10                  Bisoprolol (SaviProlol 2,5) 2,5mg\n",
       "1       40                         Losartan (Lanzaar 50) 50mg\n",
       "2        6                    Atorvastatin (Atoris 10mg) 10mg\n",
       "3       75  Đinh lăng, bạch quả (Hoạt huyết dưỡng não) 150...\n",
       "4       26                          Enalapril (Enalapril) 5mg\n",
       "..     ...                                                ...\n",
       "131     69                               STACETAM 800MG 800mg\n",
       "132     65                                   RENAPRIL 5MG 5mg\n",
       "133     70                                        TEANTI 20mg\n",
       "134     20                          CETAMPIR PLUS 400mg +25mg\n",
       "135     59                                     PANACTOL 500mg\n",
       "\n",
       "[136 rows x 2 columns]"
      ]
     },
     "execution_count": 63,
     "metadata": {},
     "output_type": "execute_result"
    }
   ],
   "source": [
    "final_csv"
   ]
  },
  {
   "cell_type": "code",
   "execution_count": 58,
   "metadata": {},
   "outputs": [],
   "source": [
    "# final_csv to pandas csv\n",
    "import pandas as pd\n",
    "\n",
    "# save csv \n",
    "final_csv.to_csv('drug-test.csv', index=False)"
   ]
  },
  {
   "cell_type": "code",
   "execution_count": null,
   "metadata": {},
   "outputs": [],
   "source": []
  }
 ],
 "metadata": {
  "interpreter": {
   "hash": "05bc258e3edd15d5b7230e941749d5a8a2fd5ca80decff64c449f47e3025e10d"
  },
  "kernelspec": {
   "display_name": "Python 3.8.5 64-bit ('thanhnt_vaipe': conda)",
   "language": "python",
   "name": "python3"
  },
  "language_info": {
   "codemirror_mode": {
    "name": "ipython",
    "version": 3
   },
   "file_extension": ".py",
   "mimetype": "text/x-python",
   "name": "python",
   "nbconvert_exporter": "python",
   "pygments_lexer": "ipython3",
   "version": "3.8.5"
  },
  "orig_nbformat": 4
 },
 "nbformat": 4,
 "nbformat_minor": 2
}
