{
 "cells": [
  {
   "cell_type": "code",
   "execution_count": 1,
   "metadata": {},
   "outputs": [
    {
     "name": "stdout",
     "output_type": "stream",
     "text": [
      "==> Preparing data..\n"
     ]
    }
   ],
   "source": [
    "\n",
    "import torch\n",
    "from torch.utils import data\n",
    "import torchvision\n",
    "import torchvision.transforms as transforms\n",
    "import argparse\n",
    "import os\n",
    "from model import ImageEncoder\n",
    "from torch import nn\n",
    "import numpy as np \n",
    "from sklearn.model_selection import train_test_split\n",
    "from sklearn.model_selection import StratifiedShuffleSplit\n",
    "\n",
    "\n",
    "def inference():\n",
    "    print('==> Preparing data..')\n",
    "    # Setting dataset\n",
    "    transform = transforms.Compose([transforms.Resize((224, 224)),\n",
    "                                    transforms.ToTensor(),\n",
    "                                    transforms.Normalize(mean=[0.485, 0.456, 0.406], std=[0.229, 0.224, 0.225])])\n",
    "\n",
    "    img_path = \"/mnt/disk1/vaipe-data/pills/result/pill-cropped-211012/\"\n",
    "    data_test = torchvision.datasets.ImageFolder(img_path, transform=transform)\n",
    "    # data_loader_test = torch.utils.data.DataLoader(data_test, batch_size=16, shuffle=True, num_workers=4)\n",
    "\n",
    "\n",
    "    # print(data_test.class_to_idx)\n",
    "\n",
    "\n",
    "if __name__ == \"__main__\":\n",
    "    inference()\n",
    "\n"
   ]
  },
  {
   "cell_type": "code",
   "execution_count": 107,
   "metadata": {},
   "outputs": [],
   "source": [
    "triplet_loss = nn.TripletMarginWithDistanceLoss(distance_function = nn.CosineSimilarity(dim=1, eps=1e-6))\n",
    "anchor = torch.randn(1, 1, 128, requires_grad=True)\n",
    "positive = torch.randn(1, 1, 128, requires_grad=True)\n",
    "negative = torch.randn(1, 30, 128, requires_grad=True)"
   ]
  },
  {
   "cell_type": "code",
   "execution_count": 109,
   "metadata": {},
   "outputs": [
    {
     "data": {
      "text/plain": [
       "torch.Size([1, 1, 128])"
      ]
     },
     "execution_count": 109,
     "metadata": {},
     "output_type": "execute_result"
    }
   ],
   "source": [
    "(anchor - positive).shape"
   ]
  },
  {
   "cell_type": "code",
   "execution_count": 110,
   "metadata": {},
   "outputs": [
    {
     "data": {
      "text/plain": [
       "torch.Size([1, 30, 128])"
      ]
     },
     "execution_count": 110,
     "metadata": {},
     "output_type": "execute_result"
    }
   ],
   "source": [
    "(anchor - negative).shape"
   ]
  },
  {
   "cell_type": "code",
   "execution_count": 111,
   "metadata": {},
   "outputs": [
    {
     "data": {
      "text/plain": [
       "torch.Size([1, 1, 128])"
      ]
     },
     "execution_count": 111,
     "metadata": {},
     "output_type": "execute_result"
    }
   ],
   "source": [
    "anchor.shape"
   ]
  },
  {
   "cell_type": "code",
   "execution_count": 112,
   "metadata": {},
   "outputs": [
    {
     "data": {
      "text/plain": [
       "tensor(1.2985, grad_fn=<MeanBackward0>)"
      ]
     },
     "execution_count": 112,
     "metadata": {},
     "output_type": "execute_result"
    }
   ],
   "source": [
    "output = triplet_loss(anchor, positive, negative)\n",
    "output"
   ]
  },
  {
   "cell_type": "code",
   "execution_count": 106,
   "metadata": {},
   "outputs": [
    {
     "data": {
      "text/plain": [
       "tensor([ 0.1324, -0.0948,  0.0730,  0.0271, -0.1391, -0.0229,  0.0764,  0.0938,\n",
       "         0.0391,  0.0149, -0.0258,  0.0835,  0.0348,  0.0245,  0.1073, -0.0164,\n",
       "         0.0244,  0.0768, -0.0451, -0.0648,  0.0195, -0.0046, -0.0571,  0.2165,\n",
       "         0.0043, -0.2428,  0.0118])"
      ]
     },
     "execution_count": 106,
     "metadata": {},
     "output_type": "execute_result"
    }
   ],
   "source": [
    "\n",
    "input1 = torch.randn(1, 128)\n",
    "input2 = torch.randn(27, 128)\n",
    "output = nn.functional.cosine_similarity(input1, input2)\n",
    "output"
   ]
  },
  {
   "cell_type": "code",
   "execution_count": null,
   "metadata": {},
   "outputs": [],
   "source": []
  }
 ],
 "metadata": {
  "interpreter": {
   "hash": "05bc258e3edd15d5b7230e941749d5a8a2fd5ca80decff64c449f47e3025e10d"
  },
  "kernelspec": {
   "display_name": "Python 3.8.5 64-bit ('thanhnt_vaipe': conda)",
   "language": "python",
   "name": "python3"
  },
  "language_info": {
   "codemirror_mode": {
    "name": "ipython",
    "version": 3
   },
   "file_extension": ".py",
   "mimetype": "text/x-python",
   "name": "python",
   "nbconvert_exporter": "python",
   "pygments_lexer": "ipython3",
   "version": "3.8.5"
  },
  "orig_nbformat": 4
 },
 "nbformat": 4,
 "nbformat_minor": 2
}
